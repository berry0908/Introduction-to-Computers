{
  "nbformat": 4,
  "nbformat_minor": 0,
  "metadata": {
    "colab": {
      "provenance": [],
      "authorship_tag": "ABX9TyMlgICGL/a203uPIo7EfqJo",
      "include_colab_link": true
    },
    "kernelspec": {
      "name": "python3",
      "display_name": "Python 3"
    },
    "language_info": {
      "name": "python"
    }
  },
  "cells": [
    {
      "cell_type": "markdown",
      "metadata": {
        "id": "view-in-github",
        "colab_type": "text"
      },
      "source": [
        "<a href=\"https://colab.research.google.com/github/berry0908/Introduction-to-Computers/blob/main/Untitled11.ipynb\" target=\"_parent\"><img src=\"https://colab.research.google.com/assets/colab-badge.svg\" alt=\"Open In Colab\"/></a>"
      ]
    },
    {
      "cell_type": "code",
      "source": [
        "print(\"0517\")"
      ],
      "metadata": {
        "id": "tbDnY-pG8-zb",
        "colab": {
          "base_uri": "https://localhost:8080/"
        },
        "outputId": "2f47ca28-6ede-4ea6-a872-d954637415de"
      },
      "execution_count": null,
      "outputs": [
        {
          "output_type": "stream",
          "name": "stdout",
          "text": [
            "0517\n"
          ]
        }
      ]
    },
    {
      "cell_type": "code",
      "execution_count": null,
      "metadata": {
        "colab": {
          "base_uri": "https://localhost:8080/"
        },
        "id": "M_z3jPtN1Mm2",
        "outputId": "6a3e5744-9562-4f92-a25b-4ada1187788f"
      },
      "outputs": [
        {
          "output_type": "stream",
          "name": "stdout",
          "text": [
            "score: 89\n",
            "Grade is: B\n"
          ]
        }
      ],
      "source": [
        "score = int(input(\"score: \"))\n",
        "if score >= 90:\n",
        "    print('Grade is: A')\n",
        "elif score >= 80:\n",
        "    print('Grade is: B')\n",
        "elif score >= 70:\n",
        "    print('Grade is: C')\n",
        "elif score >= 60:\n",
        "    print('Grade is: D')\n",
        "else:\n",
        "    print('Grade is: F')"
      ]
    },
    {
      "cell_type": "code",
      "source": [
        "temperature=int(input(\"請輸入體溫\"))\n",
        "if temperature>=37.5:\n",
        "    print(\"體溫過高\")\n",
        "elif temperature>=37.4 and temperature  <=37:\n",
        "    print(\"體溫略高\")\n",
        "elif temperature>=34 and temperature  <=36.9:\n",
        "    print(\"體溫正常\")  \n",
        "else:\n",
        "    print(\"體溫異常\")  "
      ],
      "metadata": {
        "colab": {
          "base_uri": "https://localhost:8080/"
        },
        "id": "IXYcL0ls5OMC",
        "outputId": "4da07646-203d-4c83-db18-eb14782300a1"
      },
      "execution_count": null,
      "outputs": [
        {
          "output_type": "stream",
          "name": "stdout",
          "text": [
            "請輸入體溫78\n",
            "體溫過高\n"
          ]
        }
      ]
    },
    {
      "cell_type": "code",
      "source": [
        "month=int(input(\"請輸入月份\"))\n",
        "if month>=1 and month<=3:\n",
        "    print(\"春季\")\n",
        "elif month>=4 and month<=6:\n",
        "    print(\"夏季\")\n",
        "elif month>=7 and month<=9:\n",
        "    print(\"秋季\")\n",
        "elif month>=10 and month<=12:\n",
        "    print(\"冬季\")\n",
        "else:\n",
        "    print(\"無效月份\")"
      ],
      "metadata": {
        "id": "R_BfqjQJ1jl7",
        "colab": {
          "base_uri": "https://localhost:8080/"
        },
        "outputId": "12af98ba-6a17-4488-88d1-8d4e2affa0d8"
      },
      "execution_count": null,
      "outputs": [
        {
          "output_type": "stream",
          "name": "stdout",
          "text": [
            "請輸入月份6\n",
            "夏季\n"
          ]
        }
      ]
    },
    {
      "cell_type": "code",
      "source": [
        "revenue=int(input(\"請輸入今年收入金額\"))\n",
        "if revenue>=2000000:\n",
        " print(\"付稅金額0.3\")\n",
        "elif revenue>=1000000:\n",
        "  print(\"付稅金額0.21\")\n",
        "elif revenue>=600000:\n",
        "  print(\"付稅金額0.13\")\n",
        "elif revenue>=300000:\n",
        "  print(\"付稅金額0.06\")\n",
        "\n",
        "\n",
        "\n"
      ],
      "metadata": {
        "id": "LRYRHHUT7M8H",
        "colab": {
          "base_uri": "https://localhost:8080/"
        },
        "outputId": "c48d4745-4f2e-4bde-e586-476fc21fac48"
      },
      "execution_count": 1,
      "outputs": [
        {
          "output_type": "stream",
          "name": "stdout",
          "text": [
            "請輸入今年收入金額600000\n",
            "付稅金額0.13\n"
          ]
        }
      ]
    },
    {
      "cell_type": "code",
      "source": [
        "rain=str(input(\"今天會下雨嗎\"))\n",
        "if (rain==\"Y\"or rain==\"y\"):\n",
        "    print(\"出門記得帶雨傘\")\n",
        "else:\n",
        "    print(\"不要帶雨傘\")"
      ],
      "metadata": {
        "id": "pFbm5nbt8yNF",
        "colab": {
          "base_uri": "https://localhost:8080/"
        },
        "outputId": "9aa303fe-8a2a-428e-e73c-c437f7833667"
      },
      "execution_count": null,
      "outputs": [
        {
          "output_type": "stream",
          "name": "stdout",
          "text": [
            "今天會下雨嗎y\n",
            "出門記得帶雨傘\n"
          ]
        }
      ]
    }
  ]
}